{
 "cells": [
  {
   "cell_type": "code",
   "execution_count": 1,
   "id": "14e2eea2-fbf1-4b4e-9860-55fc8231c6ca",
   "metadata": {},
   "outputs": [],
   "source": [
    "import pandas as pd"
   ]
  },
  {
   "cell_type": "code",
   "execution_count": 2,
   "id": "be2e5822-e28e-4b05-9e6a-9dcee387418f",
   "metadata": {},
   "outputs": [],
   "source": [
    "df = pd.read_csv(\"../data/raw/bgsit_hackdata_test.csv\")"
   ]
  },
  {
   "cell_type": "code",
   "execution_count": 3,
   "id": "abcfb0a2-016c-4556-9c18-d677365164cb",
   "metadata": {},
   "outputs": [
    {
     "data": {
      "text/html": [
       "<div>\n",
       "<style scoped>\n",
       "    .dataframe tbody tr th:only-of-type {\n",
       "        vertical-align: middle;\n",
       "    }\n",
       "\n",
       "    .dataframe tbody tr th {\n",
       "        vertical-align: top;\n",
       "    }\n",
       "\n",
       "    .dataframe thead th {\n",
       "        text-align: right;\n",
       "    }\n",
       "</style>\n",
       "<table border=\"1\" class=\"dataframe\">\n",
       "  <thead>\n",
       "    <tr style=\"text-align: right;\">\n",
       "      <th></th>\n",
       "      <th>roll</th>\n",
       "      <th>caste</th>\n",
       "      <th>disability</th>\n",
       "      <th>written_total</th>\n",
       "      <th>total_marks</th>\n",
       "      <th>rank</th>\n",
       "      <th>personality_test</th>\n",
       "    </tr>\n",
       "  </thead>\n",
       "  <tbody>\n",
       "    <tr>\n",
       "      <th>0</th>\n",
       "      <td>2402148</td>\n",
       "      <td>OBC</td>\n",
       "      <td>Fit</td>\n",
       "      <td>743</td>\n",
       "      <td>928</td>\n",
       "      <td>754</td>\n",
       "      <td>185</td>\n",
       "    </tr>\n",
       "    <tr>\n",
       "      <th>1</th>\n",
       "      <td>5810839</td>\n",
       "      <td>OBC</td>\n",
       "      <td>Fit</td>\n",
       "      <td>744</td>\n",
       "      <td>949</td>\n",
       "      <td>520</td>\n",
       "      <td>205</td>\n",
       "    </tr>\n",
       "    <tr>\n",
       "      <th>2</th>\n",
       "      <td>6906479</td>\n",
       "      <td>Gen</td>\n",
       "      <td>Fit</td>\n",
       "      <td>769</td>\n",
       "      <td>974</td>\n",
       "      <td>211</td>\n",
       "      <td>205</td>\n",
       "    </tr>\n",
       "    <tr>\n",
       "      <th>3</th>\n",
       "      <td>3530435</td>\n",
       "      <td>SC</td>\n",
       "      <td>Fit</td>\n",
       "      <td>705</td>\n",
       "      <td>900</td>\n",
       "      <td>944</td>\n",
       "      <td>195</td>\n",
       "    </tr>\n",
       "    <tr>\n",
       "      <th>4</th>\n",
       "      <td>414629</td>\n",
       "      <td>SC</td>\n",
       "      <td>Fit</td>\n",
       "      <td>740</td>\n",
       "      <td>905</td>\n",
       "      <td>916</td>\n",
       "      <td>165</td>\n",
       "    </tr>\n",
       "    <tr>\n",
       "      <th>...</th>\n",
       "      <td>...</td>\n",
       "      <td>...</td>\n",
       "      <td>...</td>\n",
       "      <td>...</td>\n",
       "      <td>...</td>\n",
       "      <td>...</td>\n",
       "      <td>...</td>\n",
       "    </tr>\n",
       "    <tr>\n",
       "      <th>199</th>\n",
       "      <td>5002777</td>\n",
       "      <td>Gen</td>\n",
       "      <td>Fit</td>\n",
       "      <td>764</td>\n",
       "      <td>959</td>\n",
       "      <td>382</td>\n",
       "      <td>195</td>\n",
       "    </tr>\n",
       "    <tr>\n",
       "      <th>200</th>\n",
       "      <td>1114622</td>\n",
       "      <td>OBC</td>\n",
       "      <td>Fit</td>\n",
       "      <td>757</td>\n",
       "      <td>925</td>\n",
       "      <td>782</td>\n",
       "      <td>168</td>\n",
       "    </tr>\n",
       "    <tr>\n",
       "      <th>201</th>\n",
       "      <td>5913275</td>\n",
       "      <td>EWS</td>\n",
       "      <td>Fit</td>\n",
       "      <td>765</td>\n",
       "      <td>927</td>\n",
       "      <td>762</td>\n",
       "      <td>162</td>\n",
       "    </tr>\n",
       "    <tr>\n",
       "      <th>202</th>\n",
       "      <td>4913605</td>\n",
       "      <td>Gen</td>\n",
       "      <td>PwBD-2</td>\n",
       "      <td>736</td>\n",
       "      <td>937</td>\n",
       "      <td>629</td>\n",
       "      <td>201</td>\n",
       "    </tr>\n",
       "    <tr>\n",
       "      <th>203</th>\n",
       "      <td>4401150</td>\n",
       "      <td>ST</td>\n",
       "      <td>Fit</td>\n",
       "      <td>719</td>\n",
       "      <td>892</td>\n",
       "      <td>994</td>\n",
       "      <td>173</td>\n",
       "    </tr>\n",
       "  </tbody>\n",
       "</table>\n",
       "<p>204 rows × 7 columns</p>\n",
       "</div>"
      ],
      "text/plain": [
       "        roll caste disability  written_total  total_marks  rank  \\\n",
       "0    2402148   OBC        Fit            743          928   754   \n",
       "1    5810839   OBC        Fit            744          949   520   \n",
       "2    6906479   Gen        Fit            769          974   211   \n",
       "3    3530435    SC        Fit            705          900   944   \n",
       "4     414629    SC        Fit            740          905   916   \n",
       "..       ...   ...        ...            ...          ...   ...   \n",
       "199  5002777   Gen        Fit            764          959   382   \n",
       "200  1114622   OBC        Fit            757          925   782   \n",
       "201  5913275   EWS        Fit            765          927   762   \n",
       "202  4913605   Gen     PwBD-2            736          937   629   \n",
       "203  4401150    ST        Fit            719          892   994   \n",
       "\n",
       "     personality_test  \n",
       "0                 185  \n",
       "1                 205  \n",
       "2                 205  \n",
       "3                 195  \n",
       "4                 165  \n",
       "..                ...  \n",
       "199               195  \n",
       "200               168  \n",
       "201               162  \n",
       "202               201  \n",
       "203               173  \n",
       "\n",
       "[204 rows x 7 columns]"
      ]
     },
     "execution_count": 3,
     "metadata": {},
     "output_type": "execute_result"
    }
   ],
   "source": [
    "df"
   ]
  },
  {
   "cell_type": "code",
   "execution_count": 4,
   "id": "327bbad0-9ed6-493d-9cb8-b393b687078c",
   "metadata": {},
   "outputs": [
    {
     "data": {
      "text/plain": [
       "Index(['roll', 'caste', 'disability', 'written_total', 'total_marks', 'rank',\n",
       "       'personality_test'],\n",
       "      dtype='object')"
      ]
     },
     "execution_count": 4,
     "metadata": {},
     "output_type": "execute_result"
    }
   ],
   "source": [
    "df.columns"
   ]
  },
  {
   "cell_type": "code",
   "execution_count": 7,
   "id": "0756a130-33f7-4538-9bd1-f7589c46dbea",
   "metadata": {},
   "outputs": [],
   "source": [
    "df1 = df[['roll', 'caste', 'disability', 'written_total']]"
   ]
  },
  {
   "cell_type": "code",
   "execution_count": 9,
   "id": "36aff6d4-0a7b-4175-a5e9-821690ffd853",
   "metadata": {},
   "outputs": [],
   "source": [
    "df1.to_csv(\"../data/raw/bgsit_hackdata_test.csv\")"
   ]
  },
  {
   "cell_type": "code",
   "execution_count": null,
   "id": "5474c9db-0cc7-4b02-aba2-0daa6612e7ac",
   "metadata": {},
   "outputs": [],
   "source": []
  }
 ],
 "metadata": {
  "kernelspec": {
   "display_name": "Desc Stats (Python 3.13)",
   "language": "python",
   "name": "desc-stats"
  },
  "language_info": {
   "codemirror_mode": {
    "name": "ipython",
    "version": 3
   },
   "file_extension": ".py",
   "mimetype": "text/x-python",
   "name": "python",
   "nbconvert_exporter": "python",
   "pygments_lexer": "ipython3",
   "version": "3.13.1"
  }
 },
 "nbformat": 4,
 "nbformat_minor": 5
}
